{
 "cells": [
  {
   "cell_type": "code",
   "execution_count": 2,
   "metadata": {},
   "outputs": [],
   "source": [
    "import moby2\n",
    "import pylab as pl\n",
    "import numpy as np\n",
    "import sys, os"
   ]
  },
  {
   "cell_type": "code",
   "execution_count": 25,
   "metadata": {},
   "outputs": [
    {
     "name": "stderr",
     "output_type": "stream",
     "text": [
      "/global/common/software/cmb/cori/cmbenv-gcc_20200614/cmbenv_python/lib/python3.7/site-packages/ipykernel/__main__.py:39: MatplotlibDeprecationWarning: Saw kwargs ['ls', 'linestyle'] which are all aliases for 'linestyle'.  Kept value from 'linestyle'.  Passing multiple aliases for the same property will raise a TypeError in 3.3.\n",
      "The PostScript backend does not support transparency; partially transparent artists will be rendered opaque.\n",
      "The PostScript backend does not support transparency; partially transparent artists will be rendered opaque.\n"
     ]
    },
    {
     "data": {
      "text/plain": [
       "<Figure size 288x432 with 0 Axes>"
      ]
     },
     "metadata": {},
     "output_type": "display_data"
    }
   ],
   "source": [
    "MASK_RADIUS_ARCMIN = 10.\n",
    "FOV_ARCMIN = 50.\n",
    "# Load your best buddy maps...\n",
    "#\n",
    "components = ['T', 'Q', 'U', 'Qr', 'Ur']\n",
    "mapfiles = ['pa3_buddies_%s.fits' % p\n",
    "            for p in components]\n",
    "maps = [moby2.mapping.fits_map.spaceMap(f)\n",
    "        if os.path.exists(f) else None\n",
    "        for f in mapfiles]\n",
    "\n",
    "# Promote to (1,n)...\n",
    "maps = [maps]\n",
    "\n",
    "# Load your leakage curves.\n",
    "#\n",
    "fits_dat = []\n",
    "for ar in ['ar3']:\n",
    "    fits_dat.append([])\n",
    "    for label in 'EB':\n",
    "        fits_dat[-1].append(moby2.util.StructDB.from_fits_table(\n",
    "                '41_leakbeam_T%s.fits' % label))\n",
    "\n",
    "\n",
    "sp = lambda i: pl.subplot(2,1,i+1)\n",
    "\n",
    "pl.figure(figsize=(4,6))\n",
    "pa_label = 'PA3 150 GHz'\n",
    "npa = 1\n",
    "ipa = 0\n",
    "\n",
    "if 1:\n",
    "    # The spectra.\n",
    "    sp(1+ipa*2)\n",
    "    for EB, X, kw in zip('EB', fits_dat[ipa],\n",
    "                         [{'c': 'orange'},\n",
    "                          {'c': 'navy', 'linestyle':'--'}]):\n",
    "        pl.plot(X['ell'], 1e3*X['leakage'], ls='solid',\n",
    "                label='T%s leakage'%EB, **kw)\n",
    "#        pl.plot(X['ell'], 1e3*X['residual'], ls='solid',\n",
    "#                label='T%s residual'%EB, **kw)\n",
    "    pl.grid(color='grey', linestyle=':', linewidth=1)\n",
    "    pl.legend(loc='upper right', fontsize=12)\n",
    "    pl.xlabel('$\\\\ell$')\n",
    "    pl.ylabel('$b_\\\\ell^{T\\\\to P}$ $(10^{-3})$')\n",
    "    pl.xlim(0, 4800)\n",
    "    lim = pl.ylim()\n",
    "    pl.text(4500, lim[0] + (lim[1]-lim[0])*.1, pa_label,\n",
    "               ha='right', va='bottom')\n",
    "    # The beam maps.\n",
    "    sp(ipa*2)\n",
    "    mq = maps[ipa][3]\n",
    "    SCALE = 1e-3\n",
    "    vlims = [-2e-4, 1e-4]\n",
    "    mq.imshow(data=mq.data / SCALE, units='arcmin', vmin=vlims[0]/SCALE,\n",
    "              vmax=vlims[1]/SCALE,\n",
    "              cmap='gray')\n",
    "    mq.zoom(FOV_ARCMIN)\n",
    "    pl.xlabel('X (arcmin)')\n",
    "    pl.ylabel('Y (arcmin)')\n",
    "    lim = pl.ylim()\n",
    "    pl.text(FOV_ARCMIN*.8, -FOV_ARCMIN/2, pa_label,\n",
    "               ha='right', va='bottom', color='white')\n",
    "    pl.colorbar()\n",
    "\n",
    "pl.subplots_adjust(left=.2, right=.90, top=.96, bottom =.1)\n",
    "outputm = moby2.scripting.OutputFiler(prefix='paper/')\n",
    "outputm.savefig('figure_sidelobes.png', clf=False)\n",
    "outputm.savefig('figure_sidelobes.eps', clf=False)\n",
    "outputm.savefig('figure_sidelobes.pdf')"
   ]
  },
  {
   "cell_type": "code",
   "execution_count": null,
   "metadata": {},
   "outputs": [],
   "source": []
  }
 ],
 "metadata": {
  "kernelspec": {
   "display_name": "Simons Observatory 20200623",
   "language": "python",
   "name": "so-env-20200623"
  },
  "language_info": {
   "codemirror_mode": {
    "name": "ipython",
    "version": 3
   },
   "file_extension": ".py",
   "mimetype": "text/x-python",
   "name": "python",
   "nbconvert_exporter": "python",
   "pygments_lexer": "ipython3",
   "version": "3.7.3"
  }
 },
 "nbformat": 4,
 "nbformat_minor": 4
}
